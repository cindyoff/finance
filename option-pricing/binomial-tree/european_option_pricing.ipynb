{
  "nbformat": 4,
  "nbformat_minor": 0,
  "metadata": {
    "colab": {
      "provenance": []
    },
    "kernelspec": {
      "name": "python3",
      "display_name": "Python 3"
    },
    "language_info": {
      "name": "python"
    }
  },
  "cells": [
    {
      "cell_type": "code",
      "execution_count": 1,
      "metadata": {
        "id": "A6YBu0RycWpm"
      },
      "outputs": [],
      "source": [
        "# necessary packages\n",
        "import numpy as np\n",
        "import scipy as sp\n",
        "from scipy.stats import norm"
      ]
    },
    {
      "cell_type": "markdown",
      "source": [
        "# Pricing a vanilla option : European option"
      ],
      "metadata": {
        "id": "ZGF80Qz9eGb0"
      }
    },
    {
      "cell_type": "markdown",
      "source": [
        "## Valuation of an option using a binomial tree (Cox-Ross-Rubinstein model)"
      ],
      "metadata": {
        "id": "ZOedzuChf5We"
      }
    },
    {
      "cell_type": "code",
      "source": [
        "def binomial_vanilla(S0, K, T, r, sigma, N, option_type='call'):\n",
        "    # S0 : initial price\n",
        "    # K : strike\n",
        "    # T : time to maturity, in years\n",
        "    # r : risk-free rate\n",
        "    # sigma : volatility\n",
        "    # N : number of time steps\n",
        "\n",
        "    dt = T / N # time step\n",
        "    u = np.exp(sigma * np.sqrt(dt)) # up movement\n",
        "    d = 1 / u # down movement\n",
        "    p = (np.exp(r * dt) - d) / (u - d) # risk-neutral probablity\n",
        "\n",
        "    price_tree = np.zeros((N + 1, N + 1)) # tree initialization, matrix of 0\n",
        "\n",
        "    for j in range(N + 1): # payoff at each leaf node\n",
        "        ST = S0 * (u ** j) * (d ** (N - j))\n",
        "        if option_type == 'call':\n",
        "            price_tree[N, j] = max(ST - K, 0)  # call payoff\n",
        "        else:\n",
        "            price_tree[N, j] = max(K - ST, 0)  # put payoff\n",
        "\n",
        "    # backward induction\n",
        "    for i in range(N - 1, -1, -1): # from maturity to present\n",
        "        for j in range(i + 1):\n",
        "            price_tree[i, j] = np.exp(-r * dt) * (p * price_tree[i + 1, j + 1] + # up movement\n",
        "                                                  (1 - p) * price_tree[i + 1, j]) # down movement\n",
        "\n",
        "    return price_tree[0, 0] # option price today"
      ],
      "metadata": {
        "id": "_H1EmT5veiIh"
      },
      "execution_count": null,
      "outputs": []
    },
    {
      "cell_type": "markdown",
      "source": [
        "## Validating against Black Scholes model"
      ],
      "metadata": {
        "id": "JRyXX4olfiuI"
      }
    },
    {
      "cell_type": "code",
      "source": [
        "def black_scholes(S0, K, T, r, sigma, option_type='call'):\n",
        "    d1 = (np.log(S0 / K) + (r + 0.5 * sigma**2) * T) / (sigma * np.sqrt(T))\n",
        "    d2 = d1 - sigma * np.sqrt(T)\n",
        "    if option_type == 'call':\n",
        "        return S0 * norm.cdf(d1) - K * np.exp(-r * T) * norm.cdf(d2)\n",
        "    else:\n",
        "        return K * np.exp(-r * T) * norm.cdf(-d2) - S0 * norm.cdf(-d1)\n",
        "\n",
        "# example for validation : checking for convergence of prices or not\n",
        "S0, K, T, r, sigma, N = 100, 100, 1, 0.05, 0.2, 1000\n",
        "binomial_price = binomial_vanilla(S0, K, T, r, sigma, N)\n",
        "bs_price = black_scholes(S0, K, T, r, sigma)\n",
        "print(f\"Binomial: {binomial_price:.4f}, Black-Scholes: {bs_price:.4f}\")"
      ],
      "metadata": {
        "colab": {
          "base_uri": "https://localhost:8080/"
        },
        "id": "psAU-UoqfmD0",
        "outputId": "2cb6c1b5-5916-43ce-a388-4da18a9cce21"
      },
      "execution_count": null,
      "outputs": [
        {
          "output_type": "stream",
          "name": "stdout",
          "text": [
            "Binomial: 10.4486, Black-Scholes: 10.4506\n"
          ]
        }
      ]
    }
  ]
}